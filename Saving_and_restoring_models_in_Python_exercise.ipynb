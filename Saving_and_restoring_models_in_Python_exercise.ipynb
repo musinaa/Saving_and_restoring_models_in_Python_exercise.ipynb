{
  "cells": [
    {
      "cell_type": "markdown",
      "metadata": {
        "id": "view-in-github",
        "colab_type": "text"
      },
      "source": [
        "<a href=\"https://colab.research.google.com/github/musinaa/Saving_and_restoring_models_in_Python_exercise.ipynb/blob/eda/Saving_and_restoring_models_in_Python_exercise.ipynb\" target=\"_parent\"><img src=\"https://colab.research.google.com/assets/colab-badge.svg\" alt=\"Open In Colab\"/></a>"
      ]
    },
    {
      "cell_type": "markdown",
      "metadata": {
        "id": "Ee-v8I_P8rfp"
      },
      "source": [
        "<div align=\"center\" style=\" font-size: 80%; text-align: center; margin: 0 auto\">\n",
        "<img src=\"https://raw.githubusercontent.com/Explore-AI/Pictures/master/Python-Notebook-Banners/Exercise.png\"  style=\"display: block; margin-left: auto; margin-right: auto;\";/>\n",
        "</div>\n",
        "\n",
        "# Exercise: Saving and restoring models in Python\n",
        "© ExploreAI Academy\n",
        "\n",
        "In this exercise, we save a trained model and restore it to make additional predictions on new inputs."
      ]
    },
    {
      "cell_type": "markdown",
      "metadata": {
        "id": "ITqrvAqq8xSC"
      },
      "source": [
        "## Learning objectives\n",
        "\n",
        "By the end of this train, you should be able to:\n",
        "\n",
        "* Use pickling to save and re-use previously trained models."
      ]
    },
    {
      "cell_type": "markdown",
      "metadata": {
        "id": "RgkVBdvJQqUT"
      },
      "source": [
        "## Exercises\n",
        "\n",
        "We are provided with the `Crop_yield` dataset that contains various factors that could influence the yield of a particular crop across different regions.\n",
        "\n",
        "We are interested in how some features, namely: `Temperature`, `Rainfall`, `Fertilizer_usage`, and `Pesticide_usage` influence the yield of the crop."
      ]
    },
    {
      "cell_type": "markdown",
      "metadata": {
        "id": "dd1UqbZVQqUU"
      },
      "source": [
        "### Import libraries and dataset"
      ]
    },
    {
      "cell_type": "code",
      "execution_count": 1,
      "metadata": {
        "id": "kipQoiv4QqUV"
      },
      "outputs": [],
      "source": [
        "import numpy as np\n",
        "import pandas as pd\n",
        "from sklearn.model_selection import train_test_split\n",
        "from sklearn.linear_model import LinearRegression\n",
        "from sklearn.metrics import mean_squared_error, r2_score\n",
        "import pickle"
      ]
    },
    {
      "cell_type": "code",
      "execution_count": 2,
      "metadata": {
        "colab": {
          "base_uri": "https://localhost:8080/",
          "height": 226
        },
        "id": "XrEZRLJJQqUX",
        "outputId": "6c99e17b-e084-422d-a0d3-0c9455587aaf"
      },
      "outputs": [
        {
          "output_type": "execute_result",
          "data": {
            "text/plain": [
              "  Region  Temperature    Rainfall Soil_Type  Fertilizer_Usage  \\\n",
              "0   East    23.152156  803.362573    Clayey        204.792011   \n",
              "1   West    19.382419  571.567670     Sandy        256.201737   \n",
              "2  North    27.895890   -8.699637     Loamy        222.202626   \n",
              "3   East    26.741361  897.426194     Loamy        187.984090   \n",
              "4   East    19.090286  649.384694     Loamy        110.459549   \n",
              "\n",
              "   Pesticide_Usage  Irrigation Crop_Variety      Yield  \n",
              "0        20.767590           1    Variety B  40.316318  \n",
              "1        49.290242           0    Variety A  26.846639  \n",
              "2        25.316121           0    Variety C  -0.323558  \n",
              "3        17.115362           0    Variety C  45.440871  \n",
              "4        24.068804           1    Variety B  35.478118  "
            ],
            "text/html": [
              "\n",
              "  <div id=\"df-ffbe1232-f1c3-4518-ab57-2afa6fd7632b\" class=\"colab-df-container\">\n",
              "    <div>\n",
              "<style scoped>\n",
              "    .dataframe tbody tr th:only-of-type {\n",
              "        vertical-align: middle;\n",
              "    }\n",
              "\n",
              "    .dataframe tbody tr th {\n",
              "        vertical-align: top;\n",
              "    }\n",
              "\n",
              "    .dataframe thead th {\n",
              "        text-align: right;\n",
              "    }\n",
              "</style>\n",
              "<table border=\"1\" class=\"dataframe\">\n",
              "  <thead>\n",
              "    <tr style=\"text-align: right;\">\n",
              "      <th></th>\n",
              "      <th>Region</th>\n",
              "      <th>Temperature</th>\n",
              "      <th>Rainfall</th>\n",
              "      <th>Soil_Type</th>\n",
              "      <th>Fertilizer_Usage</th>\n",
              "      <th>Pesticide_Usage</th>\n",
              "      <th>Irrigation</th>\n",
              "      <th>Crop_Variety</th>\n",
              "      <th>Yield</th>\n",
              "    </tr>\n",
              "  </thead>\n",
              "  <tbody>\n",
              "    <tr>\n",
              "      <th>0</th>\n",
              "      <td>East</td>\n",
              "      <td>23.152156</td>\n",
              "      <td>803.362573</td>\n",
              "      <td>Clayey</td>\n",
              "      <td>204.792011</td>\n",
              "      <td>20.767590</td>\n",
              "      <td>1</td>\n",
              "      <td>Variety B</td>\n",
              "      <td>40.316318</td>\n",
              "    </tr>\n",
              "    <tr>\n",
              "      <th>1</th>\n",
              "      <td>West</td>\n",
              "      <td>19.382419</td>\n",
              "      <td>571.567670</td>\n",
              "      <td>Sandy</td>\n",
              "      <td>256.201737</td>\n",
              "      <td>49.290242</td>\n",
              "      <td>0</td>\n",
              "      <td>Variety A</td>\n",
              "      <td>26.846639</td>\n",
              "    </tr>\n",
              "    <tr>\n",
              "      <th>2</th>\n",
              "      <td>North</td>\n",
              "      <td>27.895890</td>\n",
              "      <td>-8.699637</td>\n",
              "      <td>Loamy</td>\n",
              "      <td>222.202626</td>\n",
              "      <td>25.316121</td>\n",
              "      <td>0</td>\n",
              "      <td>Variety C</td>\n",
              "      <td>-0.323558</td>\n",
              "    </tr>\n",
              "    <tr>\n",
              "      <th>3</th>\n",
              "      <td>East</td>\n",
              "      <td>26.741361</td>\n",
              "      <td>897.426194</td>\n",
              "      <td>Loamy</td>\n",
              "      <td>187.984090</td>\n",
              "      <td>17.115362</td>\n",
              "      <td>0</td>\n",
              "      <td>Variety C</td>\n",
              "      <td>45.440871</td>\n",
              "    </tr>\n",
              "    <tr>\n",
              "      <th>4</th>\n",
              "      <td>East</td>\n",
              "      <td>19.090286</td>\n",
              "      <td>649.384694</td>\n",
              "      <td>Loamy</td>\n",
              "      <td>110.459549</td>\n",
              "      <td>24.068804</td>\n",
              "      <td>1</td>\n",
              "      <td>Variety B</td>\n",
              "      <td>35.478118</td>\n",
              "    </tr>\n",
              "  </tbody>\n",
              "</table>\n",
              "</div>\n",
              "    <div class=\"colab-df-buttons\">\n",
              "\n",
              "  <div class=\"colab-df-container\">\n",
              "    <button class=\"colab-df-convert\" onclick=\"convertToInteractive('df-ffbe1232-f1c3-4518-ab57-2afa6fd7632b')\"\n",
              "            title=\"Convert this dataframe to an interactive table.\"\n",
              "            style=\"display:none;\">\n",
              "\n",
              "  <svg xmlns=\"http://www.w3.org/2000/svg\" height=\"24px\" viewBox=\"0 -960 960 960\">\n",
              "    <path d=\"M120-120v-720h720v720H120Zm60-500h600v-160H180v160Zm220 220h160v-160H400v160Zm0 220h160v-160H400v160ZM180-400h160v-160H180v160Zm440 0h160v-160H620v160ZM180-180h160v-160H180v160Zm440 0h160v-160H620v160Z\"/>\n",
              "  </svg>\n",
              "    </button>\n",
              "\n",
              "  <style>\n",
              "    .colab-df-container {\n",
              "      display:flex;\n",
              "      gap: 12px;\n",
              "    }\n",
              "\n",
              "    .colab-df-convert {\n",
              "      background-color: #E8F0FE;\n",
              "      border: none;\n",
              "      border-radius: 50%;\n",
              "      cursor: pointer;\n",
              "      display: none;\n",
              "      fill: #1967D2;\n",
              "      height: 32px;\n",
              "      padding: 0 0 0 0;\n",
              "      width: 32px;\n",
              "    }\n",
              "\n",
              "    .colab-df-convert:hover {\n",
              "      background-color: #E2EBFA;\n",
              "      box-shadow: 0px 1px 2px rgba(60, 64, 67, 0.3), 0px 1px 3px 1px rgba(60, 64, 67, 0.15);\n",
              "      fill: #174EA6;\n",
              "    }\n",
              "\n",
              "    .colab-df-buttons div {\n",
              "      margin-bottom: 4px;\n",
              "    }\n",
              "\n",
              "    [theme=dark] .colab-df-convert {\n",
              "      background-color: #3B4455;\n",
              "      fill: #D2E3FC;\n",
              "    }\n",
              "\n",
              "    [theme=dark] .colab-df-convert:hover {\n",
              "      background-color: #434B5C;\n",
              "      box-shadow: 0px 1px 3px 1px rgba(0, 0, 0, 0.15);\n",
              "      filter: drop-shadow(0px 1px 2px rgba(0, 0, 0, 0.3));\n",
              "      fill: #FFFFFF;\n",
              "    }\n",
              "  </style>\n",
              "\n",
              "    <script>\n",
              "      const buttonEl =\n",
              "        document.querySelector('#df-ffbe1232-f1c3-4518-ab57-2afa6fd7632b button.colab-df-convert');\n",
              "      buttonEl.style.display =\n",
              "        google.colab.kernel.accessAllowed ? 'block' : 'none';\n",
              "\n",
              "      async function convertToInteractive(key) {\n",
              "        const element = document.querySelector('#df-ffbe1232-f1c3-4518-ab57-2afa6fd7632b');\n",
              "        const dataTable =\n",
              "          await google.colab.kernel.invokeFunction('convertToInteractive',\n",
              "                                                    [key], {});\n",
              "        if (!dataTable) return;\n",
              "\n",
              "        const docLinkHtml = 'Like what you see? Visit the ' +\n",
              "          '<a target=\"_blank\" href=https://colab.research.google.com/notebooks/data_table.ipynb>data table notebook</a>'\n",
              "          + ' to learn more about interactive tables.';\n",
              "        element.innerHTML = '';\n",
              "        dataTable['output_type'] = 'display_data';\n",
              "        await google.colab.output.renderOutput(dataTable, element);\n",
              "        const docLink = document.createElement('div');\n",
              "        docLink.innerHTML = docLinkHtml;\n",
              "        element.appendChild(docLink);\n",
              "      }\n",
              "    </script>\n",
              "  </div>\n",
              "\n",
              "\n",
              "<div id=\"df-bb93aebb-a756-4f4f-9060-fd12d5741e33\">\n",
              "  <button class=\"colab-df-quickchart\" onclick=\"quickchart('df-bb93aebb-a756-4f4f-9060-fd12d5741e33')\"\n",
              "            title=\"Suggest charts\"\n",
              "            style=\"display:none;\">\n",
              "\n",
              "<svg xmlns=\"http://www.w3.org/2000/svg\" height=\"24px\"viewBox=\"0 0 24 24\"\n",
              "     width=\"24px\">\n",
              "    <g>\n",
              "        <path d=\"M19 3H5c-1.1 0-2 .9-2 2v14c0 1.1.9 2 2 2h14c1.1 0 2-.9 2-2V5c0-1.1-.9-2-2-2zM9 17H7v-7h2v7zm4 0h-2V7h2v10zm4 0h-2v-4h2v4z\"/>\n",
              "    </g>\n",
              "</svg>\n",
              "  </button>\n",
              "\n",
              "<style>\n",
              "  .colab-df-quickchart {\n",
              "      --bg-color: #E8F0FE;\n",
              "      --fill-color: #1967D2;\n",
              "      --hover-bg-color: #E2EBFA;\n",
              "      --hover-fill-color: #174EA6;\n",
              "      --disabled-fill-color: #AAA;\n",
              "      --disabled-bg-color: #DDD;\n",
              "  }\n",
              "\n",
              "  [theme=dark] .colab-df-quickchart {\n",
              "      --bg-color: #3B4455;\n",
              "      --fill-color: #D2E3FC;\n",
              "      --hover-bg-color: #434B5C;\n",
              "      --hover-fill-color: #FFFFFF;\n",
              "      --disabled-bg-color: #3B4455;\n",
              "      --disabled-fill-color: #666;\n",
              "  }\n",
              "\n",
              "  .colab-df-quickchart {\n",
              "    background-color: var(--bg-color);\n",
              "    border: none;\n",
              "    border-radius: 50%;\n",
              "    cursor: pointer;\n",
              "    display: none;\n",
              "    fill: var(--fill-color);\n",
              "    height: 32px;\n",
              "    padding: 0;\n",
              "    width: 32px;\n",
              "  }\n",
              "\n",
              "  .colab-df-quickchart:hover {\n",
              "    background-color: var(--hover-bg-color);\n",
              "    box-shadow: 0 1px 2px rgba(60, 64, 67, 0.3), 0 1px 3px 1px rgba(60, 64, 67, 0.15);\n",
              "    fill: var(--button-hover-fill-color);\n",
              "  }\n",
              "\n",
              "  .colab-df-quickchart-complete:disabled,\n",
              "  .colab-df-quickchart-complete:disabled:hover {\n",
              "    background-color: var(--disabled-bg-color);\n",
              "    fill: var(--disabled-fill-color);\n",
              "    box-shadow: none;\n",
              "  }\n",
              "\n",
              "  .colab-df-spinner {\n",
              "    border: 2px solid var(--fill-color);\n",
              "    border-color: transparent;\n",
              "    border-bottom-color: var(--fill-color);\n",
              "    animation:\n",
              "      spin 1s steps(1) infinite;\n",
              "  }\n",
              "\n",
              "  @keyframes spin {\n",
              "    0% {\n",
              "      border-color: transparent;\n",
              "      border-bottom-color: var(--fill-color);\n",
              "      border-left-color: var(--fill-color);\n",
              "    }\n",
              "    20% {\n",
              "      border-color: transparent;\n",
              "      border-left-color: var(--fill-color);\n",
              "      border-top-color: var(--fill-color);\n",
              "    }\n",
              "    30% {\n",
              "      border-color: transparent;\n",
              "      border-left-color: var(--fill-color);\n",
              "      border-top-color: var(--fill-color);\n",
              "      border-right-color: var(--fill-color);\n",
              "    }\n",
              "    40% {\n",
              "      border-color: transparent;\n",
              "      border-right-color: var(--fill-color);\n",
              "      border-top-color: var(--fill-color);\n",
              "    }\n",
              "    60% {\n",
              "      border-color: transparent;\n",
              "      border-right-color: var(--fill-color);\n",
              "    }\n",
              "    80% {\n",
              "      border-color: transparent;\n",
              "      border-right-color: var(--fill-color);\n",
              "      border-bottom-color: var(--fill-color);\n",
              "    }\n",
              "    90% {\n",
              "      border-color: transparent;\n",
              "      border-bottom-color: var(--fill-color);\n",
              "    }\n",
              "  }\n",
              "</style>\n",
              "\n",
              "  <script>\n",
              "    async function quickchart(key) {\n",
              "      const quickchartButtonEl =\n",
              "        document.querySelector('#' + key + ' button');\n",
              "      quickchartButtonEl.disabled = true;  // To prevent multiple clicks.\n",
              "      quickchartButtonEl.classList.add('colab-df-spinner');\n",
              "      try {\n",
              "        const charts = await google.colab.kernel.invokeFunction(\n",
              "            'suggestCharts', [key], {});\n",
              "      } catch (error) {\n",
              "        console.error('Error during call to suggestCharts:', error);\n",
              "      }\n",
              "      quickchartButtonEl.classList.remove('colab-df-spinner');\n",
              "      quickchartButtonEl.classList.add('colab-df-quickchart-complete');\n",
              "    }\n",
              "    (() => {\n",
              "      let quickchartButtonEl =\n",
              "        document.querySelector('#df-bb93aebb-a756-4f4f-9060-fd12d5741e33 button');\n",
              "      quickchartButtonEl.style.display =\n",
              "        google.colab.kernel.accessAllowed ? 'block' : 'none';\n",
              "    })();\n",
              "  </script>\n",
              "</div>\n",
              "\n",
              "    </div>\n",
              "  </div>\n"
            ],
            "application/vnd.google.colaboratory.intrinsic+json": {
              "type": "dataframe",
              "variable_name": "df",
              "summary": "{\n  \"name\": \"df\",\n  \"rows\": 1000,\n  \"fields\": [\n    {\n      \"column\": \"Region\",\n      \"properties\": {\n        \"dtype\": \"category\",\n        \"num_unique_values\": 4,\n        \"samples\": [\n          \"West\",\n          \"South\",\n          \"East\"\n        ],\n        \"semantic_type\": \"\",\n        \"description\": \"\"\n      }\n    },\n    {\n      \"column\": \"Temperature\",\n      \"properties\": {\n        \"dtype\": \"number\",\n        \"std\": 4.979438485107371,\n        \"min\": 8.065931192558502,\n        \"max\": 42.4793889480005,\n        \"num_unique_values\": 1000,\n        \"samples\": [\n          20.50569696520704,\n          28.24044182330205,\n          23.2057679154354\n        ],\n        \"semantic_type\": \"\",\n        \"description\": \"\"\n      }\n    },\n    {\n      \"column\": \"Rainfall\",\n      \"properties\": {\n        \"dtype\": \"number\",\n        \"std\": 199.53759507402538,\n        \"min\": -167.9000356508484,\n        \"max\": 1084.1505131771762,\n        \"num_unique_values\": 1000,\n        \"samples\": [\n          537.2975907933901,\n          304.2381578401878,\n          588.4158073602016\n        ],\n        \"semantic_type\": \"\",\n        \"description\": \"\"\n      }\n    },\n    {\n      \"column\": \"Soil_Type\",\n      \"properties\": {\n        \"dtype\": \"category\",\n        \"num_unique_values\": 3,\n        \"samples\": [\n          \"Clayey\",\n          \"Sandy\",\n          \"Loamy\"\n        ],\n        \"semantic_type\": \"\",\n        \"description\": \"\"\n      }\n    },\n    {\n      \"column\": \"Fertilizer_Usage\",\n      \"properties\": {\n        \"dtype\": \"number\",\n        \"std\": 71.69783026591605,\n        \"min\": 50.519129400020304,\n        \"max\": 299.76237452591124,\n        \"num_unique_values\": 1000,\n        \"samples\": [\n          69.90126924812641,\n          75.63229955695034,\n          228.9339816026988\n        ],\n        \"semantic_type\": \"\",\n        \"description\": \"\"\n      }\n    },\n    {\n      \"column\": \"Pesticide_Usage\",\n      \"properties\": {\n        \"dtype\": \"number\",\n        \"std\": 11.478613864976483,\n        \"min\": 10.025100665138249,\n        \"max\": 49.99396977945601,\n        \"num_unique_values\": 1000,\n        \"samples\": [\n          20.644318246771967,\n          30.805393911387394,\n          42.74372921492432\n        ],\n        \"semantic_type\": \"\",\n        \"description\": \"\"\n      }\n    },\n    {\n      \"column\": \"Irrigation\",\n      \"properties\": {\n        \"dtype\": \"number\",\n        \"std\": 0,\n        \"min\": 0,\n        \"max\": 1,\n        \"num_unique_values\": 2,\n        \"samples\": [\n          0,\n          1\n        ],\n        \"semantic_type\": \"\",\n        \"description\": \"\"\n      }\n    },\n    {\n      \"column\": \"Crop_Variety\",\n      \"properties\": {\n        \"dtype\": \"category\",\n        \"num_unique_values\": 3,\n        \"samples\": [\n          \"Variety B\",\n          \"Variety A\"\n        ],\n        \"semantic_type\": \"\",\n        \"description\": \"\"\n      }\n    },\n    {\n      \"column\": \"Yield\",\n      \"properties\": {\n        \"dtype\": \"number\",\n        \"std\": 10.181350638638047,\n        \"min\": -8.426900494163363,\n        \"max\": 54.415047077393766,\n        \"num_unique_values\": 1000,\n        \"samples\": [\n          30.293003738439257,\n          18.196936511621285\n        ],\n        \"semantic_type\": \"\",\n        \"description\": \"\"\n      }\n    }\n  ]\n}"
            }
          },
          "metadata": {},
          "execution_count": 2
        }
      ],
      "source": [
        "# Load dataset\n",
        "df= pd.read_csv(\"https://raw.githubusercontent.com/Explore-AI/Public-Data/master/Data/Python/Crop_yield.csv\")\n",
        "df.head(5)"
      ]
    },
    {
      "source": [
        "# @title Rainfall\n",
        "\n",
        "from matplotlib import pyplot as plt\n",
        "df['Rainfall'].plot(kind='line', figsize=(8, 4), title='Rainfall')\n",
        "plt.gca().spines[['top', 'right']].set_visible(False)"
      ],
      "cell_type": "code",
      "execution_count": 3,
      "outputs": [
        {
          "output_type": "display_data",
          "data": {
            "text/plain": [
              "<Figure size 800x400 with 1 Axes>"
            ],
            "image/png": "[encoded data removed]"
          },
          "metadata": {}
        }
      ],
      "metadata": {
        "colab": {
          "base_uri": "https://localhost:8080/",
          "height": 391
        },
        "id": "IwbGvjrgRTg3",
        "outputId": "c1f9ffbb-4eff-42ab-f39c-7cdba855452e"
      }
    },
    {
      "cell_type": "markdown",
      "metadata": {
        "id": "mQpzm5CMQqUX"
      },
      "source": [
        "### Exercise 1\n",
        "\n",
        "We begin by training and evaluating a multiple linear regression model to map the relationship between the features: `Temperature`, `Rainfall`, `Fertilizer_usage`, and `Pesticide_usage` and the response variable, `Yield`. This model will enable us to predict crop yields based on the given factors."
      ]
    },
    {
      "cell_type": "code",
      "execution_count": null,
      "metadata": {
        "id": "cemphG-vQqUY"
      },
      "outputs": [],
      "source": [
        "# Your solution here..."
      ]
    },
    {
      "cell_type": "markdown",
      "metadata": {
        "id": "j3p3fY1sQqUY"
      },
      "source": [
        "### Exercise 2\n",
        "\n",
        "We want to be able to conveniently retrieve and use the model for predictions in future. We therefore need to persist the trained model by saving it to a file.\n",
        "\n",
        "Use the `Pickle` library to serialize the model and store it in a file named `crop_yield_model.pkl`."
      ]
    },
    {
      "cell_type": "code",
      "execution_count": null,
      "metadata": {
        "id": "zhJuULbuQqUY"
      },
      "outputs": [],
      "source": [
        "# Your solution here..."
      ]
    },
    {
      "cell_type": "markdown",
      "metadata": {
        "id": "OajQysnOQqUZ"
      },
      "source": [
        "### Exercise 3\n",
        "\n",
        "We have received a new set of conditions for which we need to predict the crop yield. To accomplish this, we'll utilize the model we previously trained and saved.\n",
        "\n",
        "New conditions:\n",
        "- Temperature - `25`\n",
        "- Rainfall - `150`\n",
        "- Fertilizer usage - `200`  \n",
        "- Pesticide usage - `30`\n",
        "\n",
        "Prepare the new data, load the saved model and use it to make predictions on the given feature values."
      ]
    },
    {
      "cell_type": "code",
      "execution_count": 4,
      "metadata": {
        "colab": {
          "base_uri": "https://localhost:8080/",
          "height": 226
        },
        "id": "B1yfIKI4QqUZ",
        "outputId": "7f2076e0-6680-4462-900d-2ccd936d32e4"
      },
      "outputs": [
        {
          "output_type": "execute_result",
          "data": {
            "text/plain": [
              "  Region  Temperature    Rainfall Soil_Type  Fertilizer_Usage  \\\n",
              "0   East    23.152156  803.362573    Clayey        204.792011   \n",
              "1   West    19.382419  571.567670     Sandy        256.201737   \n",
              "2  North    27.895890   -8.699637     Loamy        222.202626   \n",
              "3   East    26.741361  897.426194     Loamy        187.984090   \n",
              "4   East    19.090286  649.384694     Loamy        110.459549   \n",
              "\n",
              "   Pesticide_Usage  Irrigation Crop_Variety      Yield  \n",
              "0        20.767590           1    Variety B  40.316318  \n",
              "1        49.290242           0    Variety A  26.846639  \n",
              "2        25.316121           0    Variety C  -0.323558  \n",
              "3        17.115362           0    Variety C  45.440871  \n",
              "4        24.068804           1    Variety B  35.478118  "
            ],
            "text/html": [
              "\n",
              "  <div id=\"df-1bf1b5ff-c9cc-4f98-8f35-77f81dc57f0c\" class=\"colab-df-container\">\n",
              "    <div>\n",
              "<style scoped>\n",
              "    .dataframe tbody tr th:only-of-type {\n",
              "        vertical-align: middle;\n",
              "    }\n",
              "\n",
              "    .dataframe tbody tr th {\n",
              "        vertical-align: top;\n",
              "    }\n",
              "\n",
              "    .dataframe thead th {\n",
              "        text-align: right;\n",
              "    }\n",
              "</style>\n",
              "<table border=\"1\" class=\"dataframe\">\n",
              "  <thead>\n",
              "    <tr style=\"text-align: right;\">\n",
              "      <th></th>\n",
              "      <th>Region</th>\n",
              "      <th>Temperature</th>\n",
              "      <th>Rainfall</th>\n",
              "      <th>Soil_Type</th>\n",
              "      <th>Fertilizer_Usage</th>\n",
              "      <th>Pesticide_Usage</th>\n",
              "      <th>Irrigation</th>\n",
              "      <th>Crop_Variety</th>\n",
              "      <th>Yield</th>\n",
              "    </tr>\n",
              "  </thead>\n",
              "  <tbody>\n",
              "    <tr>\n",
              "      <th>0</th>\n",
              "      <td>East</td>\n",
              "      <td>23.152156</td>\n",
              "      <td>803.362573</td>\n",
              "      <td>Clayey</td>\n",
              "      <td>204.792011</td>\n",
              "      <td>20.767590</td>\n",
              "      <td>1</td>\n",
              "      <td>Variety B</td>\n",
              "      <td>40.316318</td>\n",
              "    </tr>\n",
              "    <tr>\n",
              "      <th>1</th>\n",
              "      <td>West</td>\n",
              "      <td>19.382419</td>\n",
              "      <td>571.567670</td>\n",
              "      <td>Sandy</td>\n",
              "      <td>256.201737</td>\n",
              "      <td>49.290242</td>\n",
              "      <td>0</td>\n",
              "      <td>Variety A</td>\n",
              "      <td>26.846639</td>\n",
              "    </tr>\n",
              "    <tr>\n",
              "      <th>2</th>\n",
              "      <td>North</td>\n",
              "      <td>27.895890</td>\n",
              "      <td>-8.699637</td>\n",
              "      <td>Loamy</td>\n",
              "      <td>222.202626</td>\n",
              "      <td>25.316121</td>\n",
              "      <td>0</td>\n",
              "      <td>Variety C</td>\n",
              "      <td>-0.323558</td>\n",
              "    </tr>\n",
              "    <tr>\n",
              "      <th>3</th>\n",
              "      <td>East</td>\n",
              "      <td>26.741361</td>\n",
              "      <td>897.426194</td>\n",
              "      <td>Loamy</td>\n",
              "      <td>187.984090</td>\n",
              "      <td>17.115362</td>\n",
              "      <td>0</td>\n",
              "      <td>Variety C</td>\n",
              "      <td>45.440871</td>\n",
              "    </tr>\n",
              "    <tr>\n",
              "      <th>4</th>\n",
              "      <td>East</td>\n",
              "      <td>19.090286</td>\n",
              "      <td>649.384694</td>\n",
              "      <td>Loamy</td>\n",
              "      <td>110.459549</td>\n",
              "      <td>24.068804</td>\n",
              "      <td>1</td>\n",
              "      <td>Variety B</td>\n",
              "      <td>35.478118</td>\n",
              "    </tr>\n",
              "  </tbody>\n",
              "</table>\n",
              "</div>\n",
              "    <div class=\"colab-df-buttons\">\n",
              "\n",
              "  <div class=\"colab-df-container\">\n",
              "    <button class=\"colab-df-convert\" onclick=\"convertToInteractive('df-1bf1b5ff-c9cc-4f98-8f35-77f81dc57f0c')\"\n",
              "            title=\"Convert this dataframe to an interactive table.\"\n",
              "            style=\"display:none;\">\n",
              "\n",
              "  <svg xmlns=\"http://www.w3.org/2000/svg\" height=\"24px\" viewBox=\"0 -960 960 960\">\n",
              "    <path d=\"M120-120v-720h720v720H120Zm60-500h600v-160H180v160Zm220 220h160v-160H400v160Zm0 220h160v-160H400v160ZM180-400h160v-160H180v160Zm440 0h160v-160H620v160ZM180-180h160v-160H180v160Zm440 0h160v-160H620v160Z\"/>\n",
              "  </svg>\n",
              "    </button>\n",
              "\n",
              "  <style>\n",
              "    .colab-df-container {\n",
              "      display:flex;\n",
              "      gap: 12px;\n",
              "    }\n",
              "\n",
              "    .colab-df-convert {\n",
              "      background-color: #E8F0FE;\n",
              "      border: none;\n",
              "      border-radius: 50%;\n",
              "      cursor: pointer;\n",
              "      display: none;\n",
              "      fill: #1967D2;\n",
              "      height: 32px;\n",
              "      padding: 0 0 0 0;\n",
              "      width: 32px;\n",
              "    }\n",
              "\n",
              "    .colab-df-convert:hover {\n",
              "      background-color: #E2EBFA;\n",
              "      box-shadow: 0px 1px 2px rgba(60, 64, 67, 0.3), 0px 1px 3px 1px rgba(60, 64, 67, 0.15);\n",
              "      fill: #174EA6;\n",
              "    }\n",
              "\n",
              "    .colab-df-buttons div {\n",
              "      margin-bottom: 4px;\n",
              "    }\n",
              "\n",
              "    [theme=dark] .colab-df-convert {\n",
              "      background-color: #3B4455;\n",
              "      fill: #D2E3FC;\n",
              "    }\n",
              "\n",
              "    [theme=dark] .colab-df-convert:hover {\n",
              "      background-color: #434B5C;\n",
              "      box-shadow: 0px 1px 3px 1px rgba(0, 0, 0, 0.15);\n",
              "      filter: drop-shadow(0px 1px 2px rgba(0, 0, 0, 0.3));\n",
              "      fill: #FFFFFF;\n",
              "    }\n",
              "  </style>\n",
              "\n",
              "    <script>\n",
              "      const buttonEl =\n",
              "        document.querySelector('#df-1bf1b5ff-c9cc-4f98-8f35-77f81dc57f0c button.colab-df-convert');\n",
              "      buttonEl.style.display =\n",
              "        google.colab.kernel.accessAllowed ? 'block' : 'none';\n",
              "\n",
              "      async function convertToInteractive(key) {\n",
              "        const element = document.querySelector('#df-1bf1b5ff-c9cc-4f98-8f35-77f81dc57f0c');\n",
              "        const dataTable =\n",
              "          await google.colab.kernel.invokeFunction('convertToInteractive',\n",
              "                                                    [key], {});\n",
              "        if (!dataTable) return;\n",
              "\n",
              "        const docLinkHtml = 'Like what you see? Visit the ' +\n",
              "          '<a target=\"_blank\" href=https://colab.research.google.com/notebooks/data_table.ipynb>data table notebook</a>'\n",
              "          + ' to learn more about interactive tables.';\n",
              "        element.innerHTML = '';\n",
              "        dataTable['output_type'] = 'display_data';\n",
              "        await google.colab.output.renderOutput(dataTable, element);\n",
              "        const docLink = document.createElement('div');\n",
              "        docLink.innerHTML = docLinkHtml;\n",
              "        element.appendChild(docLink);\n",
              "      }\n",
              "    </script>\n",
              "  </div>\n",
              "\n",
              "\n",
              "<div id=\"df-c596ac58-5ea1-4f76-8497-5a25f9cf808d\">\n",
              "  <button class=\"colab-df-quickchart\" onclick=\"quickchart('df-c596ac58-5ea1-4f76-8497-5a25f9cf808d')\"\n",
              "            title=\"Suggest charts\"\n",
              "            style=\"display:none;\">\n",
              "\n",
              "<svg xmlns=\"http://www.w3.org/2000/svg\" height=\"24px\"viewBox=\"0 0 24 24\"\n",
              "     width=\"24px\">\n",
              "    <g>\n",
              "        <path d=\"M19 3H5c-1.1 0-2 .9-2 2v14c0 1.1.9 2 2 2h14c1.1 0 2-.9 2-2V5c0-1.1-.9-2-2-2zM9 17H7v-7h2v7zm4 0h-2V7h2v10zm4 0h-2v-4h2v4z\"/>\n",
              "    </g>\n",
              "</svg>\n",
              "  </button>\n",
              "\n",
              "<style>\n",
              "  .colab-df-quickchart {\n",
              "      --bg-color: #E8F0FE;\n",
              "      --fill-color: #1967D2;\n",
              "      --hover-bg-color: #E2EBFA;\n",
              "      --hover-fill-color: #174EA6;\n",
              "      --disabled-fill-color: #AAA;\n",
              "      --disabled-bg-color: #DDD;\n",
              "  }\n",
              "\n",
              "  [theme=dark] .colab-df-quickchart {\n",
              "      --bg-color: #3B4455;\n",
              "      --fill-color: #D2E3FC;\n",
              "      --hover-bg-color: #434B5C;\n",
              "      --hover-fill-color: #FFFFFF;\n",
              "      --disabled-bg-color: #3B4455;\n",
              "      --disabled-fill-color: #666;\n",
              "  }\n",
              "\n",
              "  .colab-df-quickchart {\n",
              "    background-color: var(--bg-color);\n",
              "    border: none;\n",
              "    border-radius: 50%;\n",
              "    cursor: pointer;\n",
              "    display: none;\n",
              "    fill: var(--fill-color);\n",
              "    height: 32px;\n",
              "    padding: 0;\n",
              "    width: 32px;\n",
              "  }\n",
              "\n",
              "  .colab-df-quickchart:hover {\n",
              "    background-color: var(--hover-bg-color);\n",
              "    box-shadow: 0 1px 2px rgba(60, 64, 67, 0.3), 0 1px 3px 1px rgba(60, 64, 67, 0.15);\n",
              "    fill: var(--button-hover-fill-color);\n",
              "  }\n",
              "\n",
              "  .colab-df-quickchart-complete:disabled,\n",
              "  .colab-df-quickchart-complete:disabled:hover {\n",
              "    background-color: var(--disabled-bg-color);\n",
              "    fill: var(--disabled-fill-color);\n",
              "    box-shadow: none;\n",
              "  }\n",
              "\n",
              "  .colab-df-spinner {\n",
              "    border: 2px solid var(--fill-color);\n",
              "    border-color: transparent;\n",
              "    border-bottom-color: var(--fill-color);\n",
              "    animation:\n",
              "      spin 1s steps(1) infinite;\n",
              "  }\n",
              "\n",
              "  @keyframes spin {\n",
              "    0% {\n",
              "      border-color: transparent;\n",
              "      border-bottom-color: var(--fill-color);\n",
              "      border-left-color: var(--fill-color);\n",
              "    }\n",
              "    20% {\n",
              "      border-color: transparent;\n",
              "      border-left-color: var(--fill-color);\n",
              "      border-top-color: var(--fill-color);\n",
              "    }\n",
              "    30% {\n",
              "      border-color: transparent;\n",
              "      border-left-color: var(--fill-color);\n",
              "      border-top-color: var(--fill-color);\n",
              "      border-right-color: var(--fill-color);\n",
              "    }\n",
              "    40% {\n",
              "      border-color: transparent;\n",
              "      border-right-color: var(--fill-color);\n",
              "      border-top-color: var(--fill-color);\n",
              "    }\n",
              "    60% {\n",
              "      border-color: transparent;\n",
              "      border-right-color: var(--fill-color);\n",
              "    }\n",
              "    80% {\n",
              "      border-color: transparent;\n",
              "      border-right-color: var(--fill-color);\n",
              "      border-bottom-color: var(--fill-color);\n",
              "    }\n",
              "    90% {\n",
              "      border-color: transparent;\n",
              "      border-bottom-color: var(--fill-color);\n",
              "    }\n",
              "  }\n",
              "</style>\n",
              "\n",
              "  <script>\n",
              "    async function quickchart(key) {\n",
              "      const quickchartButtonEl =\n",
              "        document.querySelector('#' + key + ' button');\n",
              "      quickchartButtonEl.disabled = true;  // To prevent multiple clicks.\n",
              "      quickchartButtonEl.classList.add('colab-df-spinner');\n",
              "      try {\n",
              "        const charts = await google.colab.kernel.invokeFunction(\n",
              "            'suggestCharts', [key], {});\n",
              "      } catch (error) {\n",
              "        console.error('Error during call to suggestCharts:', error);\n",
              "      }\n",
              "      quickchartButtonEl.classList.remove('colab-df-spinner');\n",
              "      quickchartButtonEl.classList.add('colab-df-quickchart-complete');\n",
              "    }\n",
              "    (() => {\n",
              "      let quickchartButtonEl =\n",
              "        document.querySelector('#df-c596ac58-5ea1-4f76-8497-5a25f9cf808d button');\n",
              "      quickchartButtonEl.style.display =\n",
              "        google.colab.kernel.accessAllowed ? 'block' : 'none';\n",
              "    })();\n",
              "  </script>\n",
              "</div>\n",
              "\n",
              "    </div>\n",
              "  </div>\n"
            ],
            "application/vnd.google.colaboratory.intrinsic+json": {
              "type": "dataframe",
              "variable_name": "df",
              "summary": "{\n  \"name\": \"df\",\n  \"rows\": 1000,\n  \"fields\": [\n    {\n      \"column\": \"Region\",\n      \"properties\": {\n        \"dtype\": \"category\",\n        \"num_unique_values\": 4,\n        \"samples\": [\n          \"West\",\n          \"South\",\n          \"East\"\n        ],\n        \"semantic_type\": \"\",\n        \"description\": \"\"\n      }\n    },\n    {\n      \"column\": \"Temperature\",\n      \"properties\": {\n        \"dtype\": \"number\",\n        \"std\": 4.979438485107371,\n        \"min\": 8.065931192558502,\n        \"max\": 42.4793889480005,\n        \"num_unique_values\": 1000,\n        \"samples\": [\n          20.50569696520704,\n          28.24044182330205,\n          23.2057679154354\n        ],\n        \"semantic_type\": \"\",\n        \"description\": \"\"\n      }\n    },\n    {\n      \"column\": \"Rainfall\",\n      \"properties\": {\n        \"dtype\": \"number\",\n        \"std\": 199.53759507402538,\n        \"min\": -167.9000356508484,\n        \"max\": 1084.1505131771762,\n        \"num_unique_values\": 1000,\n        \"samples\": [\n          537.2975907933901,\n          304.2381578401878,\n          588.4158073602016\n        ],\n        \"semantic_type\": \"\",\n        \"description\": \"\"\n      }\n    },\n    {\n      \"column\": \"Soil_Type\",\n      \"properties\": {\n        \"dtype\": \"category\",\n        \"num_unique_values\": 3,\n        \"samples\": [\n          \"Clayey\",\n          \"Sandy\",\n          \"Loamy\"\n        ],\n        \"semantic_type\": \"\",\n        \"description\": \"\"\n      }\n    },\n    {\n      \"column\": \"Fertilizer_Usage\",\n      \"properties\": {\n        \"dtype\": \"number\",\n        \"std\": 71.69783026591605,\n        \"min\": 50.519129400020304,\n        \"max\": 299.76237452591124,\n        \"num_unique_values\": 1000,\n        \"samples\": [\n          69.90126924812641,\n          75.63229955695034,\n          228.9339816026988\n        ],\n        \"semantic_type\": \"\",\n        \"description\": \"\"\n      }\n    },\n    {\n      \"column\": \"Pesticide_Usage\",\n      \"properties\": {\n        \"dtype\": \"number\",\n        \"std\": 11.478613864976483,\n        \"min\": 10.025100665138249,\n        \"max\": 49.99396977945601,\n        \"num_unique_values\": 1000,\n        \"samples\": [\n          20.644318246771967,\n          30.805393911387394,\n          42.74372921492432\n        ],\n        \"semantic_type\": \"\",\n        \"description\": \"\"\n      }\n    },\n    {\n      \"column\": \"Irrigation\",\n      \"properties\": {\n        \"dtype\": \"number\",\n        \"std\": 0,\n        \"min\": 0,\n        \"max\": 1,\n        \"num_unique_values\": 2,\n        \"samples\": [\n          0,\n          1\n        ],\n        \"semantic_type\": \"\",\n        \"description\": \"\"\n      }\n    },\n    {\n      \"column\": \"Crop_Variety\",\n      \"properties\": {\n        \"dtype\": \"category\",\n        \"num_unique_values\": 3,\n        \"samples\": [\n          \"Variety B\",\n          \"Variety A\"\n        ],\n        \"semantic_type\": \"\",\n        \"description\": \"\"\n      }\n    },\n    {\n      \"column\": \"Yield\",\n      \"properties\": {\n        \"dtype\": \"number\",\n        \"std\": 10.181350638638047,\n        \"min\": -8.426900494163363,\n        \"max\": 54.415047077393766,\n        \"num_unique_values\": 1000,\n        \"samples\": [\n          30.293003738439257,\n          18.196936511621285\n        ],\n        \"semantic_type\": \"\",\n        \"description\": \"\"\n      }\n    }\n  ]\n}"
            }
          },
          "metadata": {},
          "execution_count": 4
        }
      ],
      "source": [
        "# Your solution here...\n",
        "df.head()"
      ]
    },
    {
      "cell_type": "markdown",
      "metadata": {
        "id": "prDWK50jQqUZ"
      },
      "source": [
        "## Solutions"
      ]
    },
    {
      "cell_type": "markdown",
      "metadata": {
        "id": "Ovd2ekC_QqUa"
      },
      "source": [
        "### Exercise 1"
      ]
    },
    {
      "cell_type": "code",
      "execution_count": 5,
      "metadata": {
        "colab": {
          "base_uri": "https://localhost:8080/"
        },
        "id": "E9sAqfJoQqUa",
        "outputId": "3be4d210-4f14-4bd0-dcab-99f641405b94"
      },
      "outputs": [
        {
          "output_type": "stream",
          "name": "stdout",
          "text": [
            "Test MSE: 0.3346060708725867\n",
            "Test R-squared: 0.9963871774411283\n"
          ]
        }
      ],
      "source": [
        "# Define predictors and target variable\n",
        "X = df[['Temperature', 'Rainfall', 'Fertilizer_Usage', 'Pesticide_Usage']]\n",
        "y = df['Yield']\n",
        "\n",
        "# Split the dataset into training and testing sets\n",
        "X_train, X_test, y_train, y_test = train_test_split(X, y, test_size=0.2, random_state=42)\n",
        "\n",
        "# Train a multiple linear regression model\n",
        "model = LinearRegression()\n",
        "model.fit(X_train, y_train)\n",
        "\n",
        "# Evaluate the model's performance on the test set\n",
        "y_pred = model.predict(X_test)\n",
        "mse = mean_squared_error(y_test, y_pred)\n",
        "r2 = r2_score(y_test, y_pred)\n",
        "\n",
        "print(f\"Test MSE: {mse}\")\n",
        "print(f\"Test R-squared: {r2}\")"
      ]
    },
    {
      "cell_type": "markdown",
      "metadata": {
        "id": "uSn7N8unQqUa"
      },
      "source": [
        "We train a model using a subset of the features from the `Crop_yield` dataset."
      ]
    },
    {
      "cell_type": "markdown",
      "metadata": {
        "id": "Fc7dShDLQqUb"
      },
      "source": [
        "### Exercise 2"
      ]
    },
    {
      "cell_type": "code",
      "execution_count": 6,
      "metadata": {
        "colab": {
          "base_uri": "https://localhost:8080/"
        },
        "id": "YgJVIMOWQqUb",
        "outputId": "8709312b-1d30-437c-ad48-f1c9106403a9"
      },
      "outputs": [
        {
          "output_type": "stream",
          "name": "stdout",
          "text": [
            "Model saved to crop_yield_model.pkl\n"
          ]
        }
      ],
      "source": [
        "# Define the path where the model will be saved.\n",
        "model_save_path = 'crop_yield_model.pkl'\n",
        "\n",
        "# Save the trained model to a file\n",
        "with open(model_save_path, 'wb') as file:\n",
        "    pickle.dump(model, file)\n",
        "\n",
        "print(f\"Model saved to {model_save_path}\")"
      ]
    },
    {
      "cell_type": "markdown",
      "metadata": {
        "id": "KY_QCHxtQqUb"
      },
      "source": [
        "We specify that we want to save our model in a pickle file, indicated by the `.pkl` extension.\n",
        "\n",
        "We open the file in **write-binary (`wb`)** mode - if the file doesn't exist, it will be created. Otherwise, its contents will be overwritten.\n",
        "\n",
        "We then use the `pickle.dump()` method to serialize the model object and saving it into the file."
      ]
    },
    {
      "cell_type": "markdown",
      "metadata": {
        "id": "NtGzqW3OQqUb"
      },
      "source": [
        "### Exercise 3"
      ]
    },
    {
      "cell_type": "code",
      "execution_count": 7,
      "metadata": {
        "colab": {
          "base_uri": "https://localhost:8080/"
        },
        "id": "4pR-O7dZQqUb",
        "outputId": "7af23614-74d2-45ff-ccae-8c123e9c03f3"
      },
      "outputs": [
        {
          "output_type": "stream",
          "name": "stdout",
          "text": [
            "Predicted Yield for the new conditions: 8.172860333818216 tonnes per hectare\n"
          ]
        }
      ],
      "source": [
        "# A dictionary to store the new set of conditions\n",
        "new_conditions = {\n",
        "    'Temperature': [25],  # average temperature in °C\n",
        "    'Rainfall': [150],  # total rainfall in mm\n",
        "    'Fertilizer_Usage': [200],  # fertilizer used in kg per hectare\n",
        "    'Pesticide_Usage': [30]  # pesticide used in liters per hectare\n",
        "}\n",
        "\n",
        "# Convert to DataFrame\n",
        "new_conditions_df = pd.DataFrame(new_conditions)\n",
        "\n",
        "# This is where the model is saved\n",
        "model_load_path = 'crop_yield_model.pkl'\n",
        "\n",
        "# Load the updated model\n",
        "with open(model_load_path, 'rb') as file:\n",
        "    loaded_model = pickle.load(file)\n",
        "\n",
        "# Use the model to predict the yield for the new conditions\n",
        "predicted_yield = loaded_model.predict(new_conditions_df)\n",
        "\n",
        "print(f\"Predicted Yield for the new conditions: {predicted_yield[0]} tonnes per hectare\")"
      ]
    },
    {
      "cell_type": "markdown",
      "metadata": {
        "id": "icrg54cRQqUc"
      },
      "source": [
        "We start by preparing the new data for compatibility with the model's **expected input format**, that is, a tabular format.\n",
        "\n",
        "We then open the file where we saved the model in **binary read (`rb`)** mode which is required for reading pickle files.\n",
        "\n",
        "The `pickle.load()` method deserializes the model from the file back into a Python object.\n",
        "\n",
        "We are then able to use the loaded model to predict the yield based on the new conditions provided."
      ]
    },
    {
      "cell_type": "markdown",
      "metadata": {
        "id": "ijliNjEfQqUc"
      },
      "source": [
        "<div align=\"center\" style=\" font-size: 80%; text-align: center; margin: 0 auto\">\n",
        "<img src=\"https://raw.githubusercontent.com/Explore-AI/Pictures/master/ExploreAI_logos/EAI_Blue_Dark.png\"  style=\"width:200px\";/>\n",
        "</div>"
      ]
    }
  ],
  "metadata": {
    "colab": {
      "provenance": [],
      "toc_visible": true,
      "include_colab_link": true
    },
    "interpreter": {
      "hash": "6b5ebbc2c6bde2831bc6c0426f75aca8137ccfc69d329557556ed73faee126ae"
    },
    "kernelspec": {
      "display_name": "Python 3 (ipykernel)",
      "language": "python",
      "name": "python3"
    },
    "language_info": {
      "codemirror_mode": {
        "name": "ipython",
        "version": 3
      },
      "file_extension": ".py",
      "mimetype": "text/x-python",
      "name": "python",
      "nbconvert_exporter": "python",
      "pygments_lexer": "ipython3",
      "version": "3.11.4"
    }
  },
  "nbformat": 4,
  "nbformat_minor": 0
}